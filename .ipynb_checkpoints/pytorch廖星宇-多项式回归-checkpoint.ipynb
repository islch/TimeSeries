{
 "cells": [
  {
   "cell_type": "code",
   "execution_count": 6,
   "metadata": {},
   "outputs": [],
   "source": [
    "import pandas as pd\n",
    "import numpy as np\n",
    "import matplotlib.pylab as plt\n",
    "%matplotlib inline\n",
    "from matplotlib.pylab import rcParams\n",
    "\n",
    "# import jtplot submodule from jupyterthemes\n",
    "from jupyterthemes import jtplot\n",
    "\n",
    "# currently installed theme will be used to\n",
    "# set plot style if no arguments provided\n",
    "jtplot.style()\n",
    "\n",
    "# rcParams['figure.figsize'] = 20, 8"
   ]
  },
  {
   "cell_type": "code",
   "execution_count": 1,
   "metadata": {},
   "outputs": [
    {
     "name": "stdout",
     "output_type": "stream",
     "text": [
      "tensor([[ 4., 96.]])\n",
      "tensor([[12., 98.]])\n",
      "tensor([[ 24., 196.]])\n"
     ]
    }
   ],
   "source": [
    "import torch\n",
    "from torch.autograd import Variable\n",
    "a = Variable(torch.FloatTensor([[2, 4]]), requires_grad=True)  # 构建一个 1 x 2 的矩阵\n",
    "b = torch.zeros(1, 2)  # 构建一个相同大小的 0 矩阵\n",
    "b[0, 0] = a[0, 0]**2 + a[0, 1]\n",
    "b[0, 1] = a[0, 1]**3 + 2 * a[0, 0]\n",
    "out = 2 * b\n",
    "out.backward(torch.FloatTensor([[0, 1]]), retain_graph=True)\n",
    "print(a.grad)\n",
    "out.backward(torch.FloatTensor([[1, 0]]), retain_graph=True)\n",
    "print(a.grad)\n",
    "out.backward(torch.FloatTensor([[1, 1]]), retain_graph=True)\n",
    "print(a.grad)"
   ]
  },
  {
   "cell_type": "code",
   "execution_count": 2,
   "metadata": {},
   "outputs": [
    {
     "name": "stdout",
     "output_type": "stream",
     "text": [
      "tensor([[ 3.],\n",
      "        [13.]], grad_fn=<MmBackward>)\n",
      "tensor([[ 6.],\n",
      "        [10.]])\n"
     ]
    }
   ],
   "source": [
    "a = Variable(torch.FloatTensor([[1, 2], [5, 8]]), requires_grad=True)\n",
    "w = Variable(torch.ones(2, 1), requires_grad=True)\n",
    "out = torch.mm(a, w)\n",
    "print(out)\n",
    "out.backward(torch.FloatTensor([[1], [1]]))\n",
    "print(w.grad.data)"
   ]
  },
  {
   "cell_type": "code",
   "execution_count": 3,
   "metadata": {},
   "outputs": [
    {
     "name": "stdout",
     "output_type": "stream",
     "text": [
      "tensor([4., 3.])\n",
      "tensor([2., 6.])\n",
      "tensor([6., 9.])\n"
     ]
    }
   ],
   "source": [
    "x = Variable(torch.FloatTensor([2, 3]), requires_grad=True)\n",
    "k = Variable(torch.zeros(2))\n",
    "\n",
    "k[0] = x[0]**2 + 3 * x[1]\n",
    "k[1] = x[1]**2 + 2 * x[0]\n",
    "j = torch.zeros(2, 2)\n",
    "\n",
    "k.backward(torch.FloatTensor([1, 0]), retain_graph=True)\n",
    "j[0] = x.grad.data\n",
    "print(j[0])\n",
    "\n",
    "x.grad.data.zero_()  # 归零之前求得的梯度\n",
    "\n",
    "k.backward(torch.FloatTensor([0, 1]), retain_graph=True)\n",
    "j[1] = x.grad.data\n",
    "print(j[1])\n",
    "\n",
    "x.grad.data.zero_()  # 归零之前求得的梯度\n",
    "\n",
    "k.backward(torch.FloatTensor([1, 1]))\n",
    "print(x.grad.data)"
   ]
  },
  {
   "cell_type": "code",
   "execution_count": 24,
   "metadata": {},
   "outputs": [
    {
     "data": {
      "text/plain": [
       "[<matplotlib.lines.Line2D at 0x17ff8e92240>]"
      ]
     },
     "execution_count": 24,
     "metadata": {},
     "output_type": "execute_result"
    },
    {
     "data": {
      "image/png": "[encoded data removed]",
      "text/plain": [
       "<Figure size 1440x576 with 1 Axes>"
      ]
     },
     "metadata": {
      "needs_background": "dark"
     },
     "output_type": "display_data"
    }
   ],
   "source": [
    "torch.manual_seed(2017)\n",
    "import numpy as np\n",
    "x_train = np.array(\n",
    "    [[3.3], [4.4], [5.5], [6.71], [6.93], [4.168], [9.779], [6.182], [7.59],\n",
    "     [2.167], [7.042], [10.791], [5.313], [7.997], [3.1]],\n",
    "    dtype=np.float32)\n",
    "y_train = np.array(\n",
    "    [[1.7], [2.76], [2.09], [3.19], [1.694], [1.573], [3.366], [2.596], [2.53],\n",
    "     [1.221], [2.827], [3.465], [1.65], [2.904], [1.3]],\n",
    "    dtype=np.float32)\n",
    "\n",
    "import matplotlib.pyplot as plt\n",
    "plt.figure(figsize=(20, 8))\n",
    "plt.plot(x_train, y_train, 'bo')"
   ]
  },
  {
   "cell_type": "markdown",
   "metadata": {},
   "source": [
    "### 一次函数回归"
   ]
  },
  {
   "cell_type": "code",
   "execution_count": null,
   "metadata": {},
   "outputs": [],
   "source": [
    "import torch\n",
    "from torch.autograd import Variable\n",
    "\n",
    "x_train = np.array(\n",
    "    [[3.3], [4.4], [5.5], [6.71], [6.93], [4.168], [9.779], [6.182], [7.59],\n",
    "     [2.167], [7.042], [10.791], [5.313], [7.997], [3.1]],\n",
    "    dtype=np.float32)\n",
    "y_train = np.array(\n",
    "    [[1.7], [2.76], [2.09], [3.19], [1.694], [1.573], [3.366], [2.596], [2.53],\n",
    "     [1.221], [2.827], [3.465], [1.65], [2.904], [1.3]],\n",
    "    dtype=np.float32)\n",
    "\n",
    "rcParams['figure.figsize'] = 5, 8\n",
    "\n",
    "x_train = torch.from_numpy(x_train)\n",
    "y_train = torch.from_numpy(y_train)\n",
    "\n",
    "w = Variable(torch.randn(1), requires_grad=True)\n",
    "b = Variable(torch.zeros(1), requires_grad=True)\n",
    "\n",
    "x_train = Variable(x_train)\n",
    "y_train = Variable(y_train)\n",
    "\n",
    "\n",
    "def linear_model(x):\n",
    "    return x * w + b\n",
    "\n",
    "\n",
    "print('w = ', w.item())\n",
    "print('b = ', b.item())\n",
    "\n",
    "y_ = linear_model(x_train)\n",
    "\n",
    "plt.subplot(311)\n",
    "plt.plot(x_train.data.numpy(), y_train.data.numpy(), 'bo', label='real')\n",
    "plt.plot(x_train.data.numpy(), y_.data.numpy(), 'ro', label='estimated')\n",
    "plt.legend()\n",
    "\n",
    "\n",
    "def get_loss(y_, y):\n",
    "    return torch.mean((y_ - y_train)**2)\n",
    "\n",
    "\n",
    "loss = get_loss(y_, y_train)\n",
    "print('loss = ', loss)\n",
    "\n",
    "loss.backward()\n",
    "print('w grad = ', w.grad)\n",
    "print('b grad = ', b.grad)\n",
    "\n",
    "# 更新一次\n",
    "w.data = w.data - 1e-2 * w.grad.data\n",
    "b.data = b.data - 1e-2 * b.grad.data\n",
    "\n",
    "y_ = linear_model(x_train)\n",
    "plt.subplot(312)\n",
    "plt.plot(x_train.data.numpy(), y_train.data.numpy(), 'bo', label='real')\n",
    "plt.plot(x_train.data.numpy(), y_.data.numpy(), 'ro', label='estimated')\n",
    "plt.legend()\n",
    "\n",
    "print()\n",
    "# 十次更新\n",
    "for i in range(10):\n",
    "    y_ = linear_model(x_train)\n",
    "    loss = get_loss(y_, y_train)\n",
    "    w.grad.zero_()\n",
    "    b.grad.zero_()\n",
    "    loss.backward()\n",
    "\n",
    "    w.data = w.data - 1e-2 * w.grad.data\n",
    "    b.data = b.data - 1e-2 * b.grad.data\n",
    "    print('epoch: {}, loss: {}'.format(i, loss.data))\n",
    "    print('w_ = ', w.item())\n",
    "    print('b_ = ', b.item())\n",
    "    print()\n",
    "\n",
    "plt.subplot(313)\n",
    "y_ = linear_model(x_train)\n",
    "plt.plot(x_train.data.numpy(), y_train.data.numpy(), 'bo', label='real')\n",
    "plt.plot(x_train.data.numpy(), y_.data.numpy(), 'ro', label='estimated')\n",
    "plt.legend()"
   ]
  },
  {
   "cell_type": "code",
   "execution_count": 70,
   "metadata": {},
   "outputs": [
    {
     "data": {
      "text/plain": [
       "<matplotlib.legend.Legend at 0x17ffffa6630>"
      ]
     },
     "execution_count": 70,
     "metadata": {},
     "output_type": "execute_result"
    },
    {
     "data": {
      "image/png": "[encoded data removed]",
      "text/plain": [
       "<Figure size 360x576 with 1 Axes>"
      ]
     },
     "metadata": {},
     "output_type": "display_data"
    }
   ],
   "source": [
    "x = np.linspace(-np.pi, np.pi, 100, endpoint=True)  #设置自变量x取值范围\n",
    "c, s = np.cos(x), 0.5 * (np.sin(x))**2 - 2 * np.cos(x)  #书写因变量的函数形式\n",
    "plt.figure(1)  #设置图像的输出次序（即第几个函数图像）\n",
    "plt.plot(x, c, \"b.\", linewidth=\"1\", label=\"cos(x)\")\n",
    "plt.plot(x, s, \"r+\", linewidth=\"1\",\n",
    "         label=\"0.5.sin(x)^2-cos(x)\")  #输出图像格式设置，包括图线宽度、颜色、标注以及点的输出形式\n",
    "plt.title(\"cos/sin(x)函数\")  #设置整个图像的标题输出\n",
    "#plt.xlabel(\"x-x\")\n",
    "#plt.ylabel(\"y-y\") #设置图像的x和y坐标轴标题\n",
    "ax = plt.gca()  #轴的编辑器，可以用来设置图像的四个坐标轴的输出格式\n",
    "ax.spines[\"right\"].set_color(\"none\")  #隐藏右边坐标轴的那条线\n",
    "ax.spines[\"top\"].set_color(\"none\")  #隐藏右边坐标轴的那条线\n",
    "ax.spines[\"left\"].set_position((\"data\", 0))  #设置左边坐标轴的数据中心点在0点\n",
    "ax.spines[\"bottom\"].set_position((\"data\", 0))  #设置下边坐标轴的数据中心点在0点\n",
    "ax.xaxis.set_ticks_position(\"bottom\")  #设置横轴坐标轴的数值标注在坐标轴线的上下位置\n",
    "ax.yaxis.set_ticks_position(\"left\")  #设置纵轴坐标轴的数值标注在坐标轴线的左右位置\n",
    "plt.xticks(\n",
    "    [-np.pi, -np.pi / 2, 0, np.pi / 2, np.pi],\n",
    "    [r'$-\\pi$', r'$-\\pi/2$', r'$0$', r'$+\\pi/2$', r'$+\\pi$'])  #在坐标轴的位置上输出显示π\n",
    "# plt.yticks(np.linspace(-2,2,5,endpoint=True)) #设置坐标轴上显示分度值的数值标注\n",
    "for label in ax.get_xticklabels() + ax.get_yticklabels():  #编辑设置坐标轴上的标注数值的格式\n",
    "    label.set_fontsize(10)  #设置标注数值数字大小尺寸\n",
    "    label.set_bbox(dict(facecolor=\"white\", edgecolor=\"none\",\n",
    "                        alpha=0.2))  #设置数值方框的格式（包括方框的背景颜色、边框颜色以及透明度\n",
    "plt.legend(loc=\"lower right\")  #设置曲线标注的位置（上下左右）\n",
    "# plt.grid() #设置曲线的网格线"
   ]
  },
  {
   "cell_type": "markdown",
   "metadata": {},
   "source": [
    "### 下面是多项式回归"
   ]
  },
  {
   "cell_type": "code",
   "execution_count": 7,
   "metadata": {},
   "outputs": [
    {
     "name": "stdout",
     "output_type": "stream",
     "text": [
      "y = 0.90 + 0.50 * x + 3.00 * x^2 + 2.40 * x^3\n"
     ]
    },
    {
     "data": {
      "text/plain": [
       "<matplotlib.legend.Legend at 0x2d3291ab4a8>"
      ]
     },
     "execution_count": 7,
     "metadata": {},
     "output_type": "execute_result"
    },
    {
     "data": {
      "image/png": "[encoded data removed]",
      "text/plain": [
       "<Figure size 432x288 with 1 Axes>"
      ]
     },
     "metadata": {
      "needs_background": "dark"
     },
     "output_type": "display_data"
    }
   ],
   "source": [
    "import numpy as np\n",
    "import torch\n",
    "import matplotlib.pyplot as plt\n",
    "%matplotlib inline\n",
    "w_target = np.array([0.5, 3, 2.4])\n",
    "b_target = np.array([0.9])\n",
    "f_des = 'y = {:.2f} + {:.2f} * x + {:.2f} * x^2 + {:.2f} * x^3'.format(\n",
    "    b_target[0], w_target[0], w_target[1], w_target[2])  # 打印出函数的式子\n",
    "print(f_des)\n",
    "\n",
    "x_sample = np.arange(-3, 3.1, 0.1)\n",
    "y_sample = b_target[0] + w_target[0] * x_sample + w_target[\n",
    "    1] * x_sample**2 + w_target[2] * x_sample**3\n",
    "plt.plot(x_sample, y_sample, label='real curve')\n",
    "plt.legend()"
   ]
  },
  {
   "cell_type": "code",
   "execution_count": 12,
   "metadata": {},
   "outputs": [
    {
     "data": {
      "text/plain": [
       "torch.Size([61, 1])"
      ]
     },
     "execution_count": 12,
     "metadata": {},
     "output_type": "execute_result"
    }
   ],
   "source": [
    "# 构建数据 x 和 y\n",
    "# x 是一个如下矩阵 [x, x^2, x^3]\n",
    "# y 是函数的结果 [y]\n",
    "\n",
    "x_train = np.stack([x_sample**i for i in range(1, 4)], axis = 1)\n",
    "# 不用.float()就是float64数据了，numpy目的是精确\n",
    "x_train = torch.from_numpy(x_train).float() \n",
    "# y_train从61 变成61*1\n",
    "y_train = torch.from_numpy(y_sample).float().unsqueeze(1)\n",
    "\n",
    "# 定义参数和模型\n",
    "w = Variable(torch.randn(3, 1), requires_grad=True)\n",
    "b = Variable(torch.zeros(1), requires_grad=True)\n",
    "# 将 x 和 y 转换成 Variable\n",
    "x_train = Variable(x_train)\n",
    "y_train = Variable(y_train)\n",
    "\n",
    "def multi_linear(x):\n",
    "    "
   ]
  },
  {
   "cell_type": "code",
   "execution_count": null,
   "metadata": {},
   "outputs": [],
   "source": []
  }
 ],
 "metadata": {
  "kernelspec": {
   "display_name": "Python 3.7.3 64-bit",
   "language": "python",
   "name": "python37364bit8e0207826e3145aab0a7d3efad16fd77"
  },
  "language_info": {
   "codemirror_mode": {
    "name": "ipython",
    "version": 3
   },
   "file_extension": ".py",
   "mimetype": "text/x-python",
   "name": "python",
   "nbconvert_exporter": "python",
   "pygments_lexer": "ipython3",
   "version": "3.7.3"
  }
 },
 "nbformat": 4,
 "nbformat_minor": 2
}
