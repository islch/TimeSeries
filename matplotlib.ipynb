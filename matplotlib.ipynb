{
 "cells": [
  {
   "cell_type": "code",
   "execution_count": 3,
   "metadata": {},
   "outputs": [
    {
     "name": "stderr",
     "output_type": "stream",
     "text": [
      "E:\\Anaconda3\\envs\\test\\lib\\importlib\\_bootstrap.py:219: RuntimeWarning: numpy.ufunc size changed, may indicate binary incompatibility. Expected 192 from C header, got 216 from PyObject\n",
      "  return f(*args, **kwds)\n"
     ]
    }
   ],
   "source": [
    "import pandas as pd\n",
    "import numpy as np\n",
    "import matplotlib.pylab as plt\n",
    "%matplotlib inline\n",
    "from matplotlib.pylab import rcParams\n",
    "\n",
    "# import jtplot submodule from jupyterthemes\n",
    "from jupyterthemes import jtplot\n",
    "\n",
    "# currently installed theme will be used to\n",
    "# set plot style if no arguments provided\n",
    "jtplot.style()\n",
    "\n",
    "# rcParams['figure.figsize'] = 20, 8"
   ]
  },
  {
   "cell_type": "code",
   "execution_count": 5,
   "metadata": {},
   "outputs": [
    {
     "data": {
      "text/plain": [
       "<matplotlib.legend.Legend at 0x24569c0c5c0>"
      ]
     },
     "execution_count": 5,
     "metadata": {},
     "output_type": "execute_result"
    },
    {
     "data": {
      "image/png": "[encoded data removed]",
      "text/plain": [
       "<Figure size 432x288 with 1 Axes>"
      ]
     },
     "metadata": {
      "needs_background": "dark"
     },
     "output_type": "display_data"
    }
   ],
   "source": [
    "import numpy as np\n",
    "import matplotlib.pyplot as plt\n",
    "%matplotlib inline\n",
    "\n",
    "plt.rcParams[\"font.sans-serif\"]=[\"SimHei\"]#输出图像的标题可以为中文正常输出\n",
    "plt.rcParams[\"axes.unicode_minus\"]=False #可以正常输出图线里的负号\n",
    "\n",
    "\n",
    "x = np.linspace(-np.pi, np.pi, 100, endpoint=True)  #设置自变量x取值范围\n",
    "c, s = np.cos(x), 0.5 * (np.sin(x))**2 - 2 * np.cos(x)  #书写因变量的函数形式\n",
    "plt.figure(1)  #设置图像的输出次序（即第几个函数图像）\n",
    "plt.plot(x, c, \"b.\", linewidth=\"1\", label=\"cos(x)\")\n",
    "plt.plot(x, s, \"r+\", linewidth=\"1\",\n",
    "         label=\"0.5.sin(x)^2-cos(x)\")  #输出图像格式设置，包括图线宽度、颜色、标注以及点的输出形式\n",
    "plt.title(\"cos/sin(x)函数\")  #设置整个图像的标题输出\n",
    "plt.xlabel(\"x-x\")\n",
    "plt.ylabel(\"y-y\") #设置图像的x和y坐标轴标题\n",
    "ax = plt.gca()  #轴的编辑器，可以用来设置图像的四个坐标轴的输出格式\n",
    "ax.spines[\"right\"].set_color(\"none\")  #隐藏右边坐标轴的那条线\n",
    "ax.spines[\"top\"].set_color(\"none\")  #隐藏右边坐标轴的那条线\n",
    "ax.spines[\"left\"].set_position((\"data\", 0))  #设置左边坐标轴的数据中心点在0点\n",
    "ax.spines[\"bottom\"].set_position((\"data\", 0))  #设置下边坐标轴的数据中心点在0点\n",
    "ax.xaxis.set_ticks_position(\"bottom\")  #设置横轴坐标轴的数值标注在坐标轴线的上下位置\n",
    "ax.yaxis.set_ticks_position(\"left\")  #设置纵轴坐标轴的数值标注在坐标轴线的左右位置\n",
    "plt.xticks(\n",
    "    [-np.pi, -np.pi / 2, 0, np.pi / 2, np.pi],\n",
    "    [r'$-\\pi$', r'$-\\pi/2$', r'$0$', r'$+\\pi/2$', r'$+\\pi$'])  #在坐标轴的位置上输出显示π\n",
    "plt.yticks(np.linspace(-2,2,5,endpoint=True)) #设置坐标轴上显示分度值的数值标注\n",
    "\n",
    "for label in ax.get_xticklabels() + ax.get_yticklabels():  #编辑设置坐标轴上的标注数值的格式\n",
    "    label.set_fontsize(10)  #设置标注数值数字大小尺寸\n",
    "    label.set_bbox(dict(facecolor=\"white\", edgecolor=\"none\",\n",
    "                        alpha=0.2))  #设置数值方框的格式（包括方框的背景颜色、边框颜色以及透明度\n",
    "    \n",
    "plt.legend(loc=\"lower right\")  #设置曲线标注的位置（上下左右）\n",
    "# plt.grid() #设置曲线的网格线"
   ]
  },
  {
   "cell_type": "code",
   "execution_count": null,
   "metadata": {},
   "outputs": [],
   "source": []
  }
 ],
 "metadata": {
  "kernelspec": {
   "display_name": "Python 3",
   "language": "python",
   "name": "python3"
  },
  "language_info": {
   "codemirror_mode": {
    "name": "ipython",
    "version": 3
   },
   "file_extension": ".py",
   "mimetype": "text/x-python",
   "name": "python",
   "nbconvert_exporter": "python",
   "pygments_lexer": "ipython3",
   "version": "3.7.3"
  }
 },
 "nbformat": 4,
 "nbformat_minor": 2
}
