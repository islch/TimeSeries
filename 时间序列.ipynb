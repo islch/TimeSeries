{
 "cells": [
  {
   "cell_type": "code",
   "execution_count": 1,
   "metadata": {},
   "outputs": [],
   "source": [
    "import pandas as pd\n",
    "import numpy as np\n",
    "import matplotlib.pylab as plt\n",
    "%matplotlib inline\n",
    "from matplotlib.pylab import rcParams\n",
    "rcParams['figure.figsize'] = 15, 6\n"
   ]
  },
  {
   "cell_type": "code",
   "execution_count": 2,
   "metadata": {},
   "outputs": [
    {
     "name": "stdout",
     "output_type": "stream",
     "text": [
      "     Month  #Passengers\n",
      "0  1949-01          112\n",
      "1  1949-02          118\n",
      "2  1949-03          132\n",
      "3  1949-04          129\n",
      "4  1949-05          121\n",
      "\n",
      " Data Types:\n",
      "Month          object\n",
      "#Passengers     int64\n",
      "dtype: object\n"
     ]
    }
   ],
   "source": [
    "data = pd.read_csv('data/AirPassengers.csv')\n",
    "print(data.head())\n",
    "print('\\n Data Types:')\n",
    "print(data.dtypes)"
   ]
  },
  {
   "cell_type": "code",
   "execution_count": 21,
   "metadata": {},
   "outputs": [
    {
     "name": "stdout",
     "output_type": "stream",
     "text": [
      "            #Passengers\n",
      "Month                  \n",
      "1949-01-01          112\n",
      "1949-02-01          118\n",
      "1949-03-01          132\n",
      "1949-04-01          129\n",
      "1949-05-01          121\n",
      "DatetimeIndex(['1949-01-01', '1949-02-01', '1949-03-01', '1949-04-01',\n",
      "               '1949-05-01', '1949-06-01', '1949-07-01', '1949-08-01',\n",
      "               '1949-09-01', '1949-10-01',\n",
      "               ...\n",
      "               '1960-03-01', '1960-04-01', '1960-05-01', '1960-06-01',\n",
      "               '1960-07-01', '1960-08-01', '1960-09-01', '1960-10-01',\n",
      "               '1960-11-01', '1960-12-01'],\n",
      "              dtype='datetime64[ns]', name='Month', length=144, freq=None)\n"
     ]
    }
   ],
   "source": [
    "dateparse = lambda dates: pd.datetime.strptime(dates, '%Y-%m')\n",
    "data = pd.read_csv('data/AirPassengers.csv', parse_dates=['Month'], index_col='Month',date_parser=dateparse)\n",
    "print(data.head())\n",
    "print(data.index)"
   ]
  },
  {
   "cell_type": "code",
   "execution_count": 23,
   "metadata": {},
   "outputs": [
    {
     "name": "stdout",
     "output_type": "stream",
     "text": [
      "RangeIndex(start=0, stop=144, step=1)\n"
     ]
    }
   ],
   "source": [
    "dateparse1 = lambda dates: pd.datetime.strptime(dates, '%Y-%m')\n",
    "data1 = pd.read_csv('data/AirPassengers.csv', parse_dates=['Month'],date_parser=dateparse)\n",
    "print(data1.index) #注意这里的index哦"
   ]
  },
  {
   "cell_type": "code",
   "execution_count": null,
   "metadata": {},
   "outputs": [],
   "source": []
  }
 ],
 "metadata": {
  "kernelspec": {
   "display_name": "Python 3",
   "language": "python",
   "name": "python3"
  },
  "language_info": {
   "codemirror_mode": {
    "name": "ipython",
    "version": 3
   },
   "file_extension": ".py",
   "mimetype": "text/x-python",
   "name": "python",
   "nbconvert_exporter": "python",
   "pygments_lexer": "ipython3",
   "version": "3.7.3"
  }
 },
 "nbformat": 4,
 "nbformat_minor": 2
}
